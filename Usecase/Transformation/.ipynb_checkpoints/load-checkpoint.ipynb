{
 "cells": [
  {
   "cell_type": "code",
   "execution_count": 1,
   "id": "398ac125",
   "metadata": {},
   "outputs": [],
   "source": [
    "import pandas as pd\n",
    "from datetime import datetime\n",
    "import os\n",
    "\n",
    "def process_csv(source_file_path, destination_folder):\n",
    "    df = pd.read_csv(source_file_path)\n",
    "\n",
    "\n",
    "    if not os.path.exists(destination_folder):\n",
    "        os.makedirs(destination_folder)\n",
    "\n",
    "    source_file_name = os.path.basename(source_file_path)\n",
    "    destination_file_path = os.path.join(destination_folder, source_file_name)\n",
    "\n",
    "    df.to_csv(destination_file_path, index=False)\n",
    "\n",
    "    print(f\"Saved CSV file to: {destination_file_path}\")"
   ]
  },
  {
   "cell_type": "code",
   "execution_count": 2,
   "id": "7f2f404e",
   "metadata": {},
   "outputs": [
    {
     "name": "stdout",
     "output_type": "stream",
     "text": [
      "Saved CSV file to: /home/radwa/Radwa.Usecase/staging_2/Brands/brands.csv\n"
     ]
    }
   ],
   "source": [
    "source_csv_path = \"/home/radwa/Radwa.Usecase/staging_1/Brands/brands.csv\" \n",
    "destination_folder = \"/home/radwa/Radwa.Usecase/staging_2/Brands\"  \n",
    "\n",
    "process_csv(source_csv_path, destination_folder)"
   ]
  },
  {
   "cell_type": "code",
   "execution_count": 3,
   "id": "87197886",
   "metadata": {},
   "outputs": [
    {
     "name": "stdout",
     "output_type": "stream",
     "text": [
      "Saved CSV file to: /home/radwa/Radwa.Usecase/staging_2/Categories/categories.csv\n"
     ]
    }
   ],
   "source": [
    "source_csv_path = \"/home/radwa/Radwa.Usecase/staging_1/Categories/categories.csv\" \n",
    "destination_folder = \"/home/radwa/Radwa.Usecase/staging_2/Categories\"  \n",
    "\n",
    "process_csv(source_csv_path, destination_folder)"
   ]
  },
  {
   "cell_type": "code",
   "execution_count": 4,
   "id": "341625b6",
   "metadata": {},
   "outputs": [
    {
     "name": "stdout",
     "output_type": "stream",
     "text": [
      "Saved CSV file to: /home/radwa/Radwa.Usecase/staging_2/Staffs/staffs.csv\n"
     ]
    }
   ],
   "source": [
    "source_csv_path = \"/home/radwa/Radwa.Usecase/staging_1/Staffs/staffs.csv\" \n",
    "destination_folder = \"/home/radwa/Radwa.Usecase/staging_2/Staffs\"  \n",
    "\n",
    "process_csv(source_csv_path, destination_folder)"
   ]
  },
  {
   "cell_type": "code",
   "execution_count": 5,
   "id": "f596a341",
   "metadata": {},
   "outputs": [
    {
     "name": "stdout",
     "output_type": "stream",
     "text": [
      "Saved CSV file to: /home/radwa/Radwa.Usecase/staging_2/Stocks/stocks.csv\n"
     ]
    }
   ],
   "source": [
    "source_csv_path = \"/home/radwa/Radwa.Usecase/staging_1/Stocks/stocks.csv\" \n",
    "destination_folder = \"/home/radwa/Radwa.Usecase/staging_2/Stocks\"  \n",
    "\n",
    "process_csv(source_csv_path, destination_folder)"
   ]
  },
  {
   "cell_type": "code",
   "execution_count": 6,
   "id": "ae3a9016",
   "metadata": {},
   "outputs": [
    {
     "name": "stdout",
     "output_type": "stream",
     "text": [
      "Saved CSV file to: /home/radwa/Radwa.Usecase/staging_2/Products/products.csv\n"
     ]
    }
   ],
   "source": [
    "source_csv_path = \"/home/radwa/Radwa.Usecase/staging_1/Products/products.csv\" \n",
    "destination_folder = \"/home/radwa/Radwa.Usecase/staging_2/Products\"  \n",
    "\n",
    "process_csv(source_csv_path, destination_folder)"
   ]
  },
  {
   "cell_type": "code",
   "execution_count": null,
   "id": "c00068da",
   "metadata": {},
   "outputs": [],
   "source": []
  }
 ],
 "metadata": {
  "kernelspec": {
   "display_name": "Python 3 (ipykernel)",
   "language": "python",
   "name": "python3"
  },
  "language_info": {
   "codemirror_mode": {
    "name": "ipython",
    "version": 3
   },
   "file_extension": ".py",
   "mimetype": "text/x-python",
   "name": "python",
   "nbconvert_exporter": "python",
   "pygments_lexer": "ipython3",
   "version": "3.9.12"
  }
 },
 "nbformat": 4,
 "nbformat_minor": 5
}
