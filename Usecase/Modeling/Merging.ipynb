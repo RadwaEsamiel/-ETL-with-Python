{
 "cells": [
  {
   "cell_type": "code",
   "execution_count": 1,
   "id": "587ad6ec",
   "metadata": {},
   "outputs": [],
   "source": [
    "import sqlalchemy as db\n",
    "import pandas as pd\n",
    "import numpy as np\n",
    "\n",
    "\n",
    "path = \"/home/radwa/Radwa.Usecase/staging_2/order_items/order_items.csv\"\n",
    "\n",
    "df_order_items = pd.read_csv(path)"
   ]
  },
  {
   "cell_type": "code",
   "execution_count": 2,
   "id": "0e014763",
   "metadata": {},
   "outputs": [],
   "source": [
    "path = \"/home/radwa/Radwa.Usecase/staging_2/Products/products.csv\"\n",
    "\n",
    "df_products = pd.read_csv(path)"
   ]
  },
  {
   "cell_type": "code",
   "execution_count": 3,
   "id": "63e1c5b1",
   "metadata": {},
   "outputs": [],
   "source": [
    "path = \"/home/radwa/Radwa.Usecase/staging_2/orders/orders.csv\"\n",
    "\n",
    "df_order = pd.read_csv(path)"
   ]
  },
  {
   "cell_type": "code",
   "execution_count": 4,
   "id": "d0289b4f",
   "metadata": {},
   "outputs": [
    {
     "data": {
      "text/plain": [
       "Index(['order_id', 'item_id', 'product_id', 'quantity', 'list_price',\n",
       "       'discount', 'Extract_time', 'Source', 'exchange_rate',\n",
       "       'list_price_egp'],\n",
       "      dtype='object')"
      ]
     },
     "execution_count": 4,
     "metadata": {},
     "output_type": "execute_result"
    }
   ],
   "source": [
    "df_order_items.columns"
   ]
  },
  {
   "cell_type": "code",
   "execution_count": 5,
   "id": "bcf0d86e",
   "metadata": {},
   "outputs": [
    {
     "data": {
      "text/plain": [
       "Index(['product_id', 'product_name', 'brand_id', 'category_id', 'model_year',\n",
       "       'list_price', 'Extract_time', 'Source'],\n",
       "      dtype='object')"
      ]
     },
     "execution_count": 5,
     "metadata": {},
     "output_type": "execute_result"
    }
   ],
   "source": [
    "df_products.columns"
   ]
  },
  {
   "cell_type": "code",
   "execution_count": 6,
   "id": "89318fc0",
   "metadata": {},
   "outputs": [
    {
     "data": {
      "text/plain": [
       "Index(['order_id', 'customer_id', 'order_status', 'order_date',\n",
       "       'required_date', 'shipped_date', 'store_id', 'staff_id', 'Extract_time',\n",
       "       'Source', 'late_delivery', 'latency days', 'weekend'],\n",
       "      dtype='object')"
      ]
     },
     "execution_count": 6,
     "metadata": {},
     "output_type": "execute_result"
    }
   ],
   "source": [
    "df_order.columns"
   ]
  },
  {
   "cell_type": "code",
   "execution_count": 7,
   "id": "e1f778e7",
   "metadata": {},
   "outputs": [],
   "source": [
    "df_order_items_orders = pd.merge(\n",
    "    df_order_items,\n",
    "    df_order,\n",
    "    on='order_id',\n",
    "    how='inner'  \n",
    ")"
   ]
  },
  {
   "cell_type": "code",
   "execution_count": 8,
   "id": "cc14c9e3",
   "metadata": {},
   "outputs": [],
   "source": [
    "df_orders_products_details = pd.merge(\n",
    "    df_order_items_orders,\n",
    "    df_products,\n",
    "    on='product_id',\n",
    "    how='inner' \n",
    ")"
   ]
  },
  {
   "cell_type": "code",
   "execution_count": 9,
   "id": "b97a6a84",
   "metadata": {},
   "outputs": [],
   "source": [
    "import os\n",
    "\n",
    "\n",
    "folder_path = \"Information Mart\"\n",
    "if not os.path.exists(folder_path):\n",
    "    os.makedirs(folder_path)\n",
    "\n",
    "csv_path = os.path.join(folder_path, \"orders_products_details.csv\")\n",
    "df_orders_products_details.to_csv(csv_path, index=False)"
   ]
  },
  {
   "cell_type": "code",
   "execution_count": null,
   "id": "e2c44b79",
   "metadata": {},
   "outputs": [],
   "source": []
  }
 ],
 "metadata": {
  "kernelspec": {
   "display_name": "Python 3 (ipykernel)",
   "language": "python",
   "name": "python3"
  },
  "language_info": {
   "codemirror_mode": {
    "name": "ipython",
    "version": 3
   },
   "file_extension": ".py",
   "mimetype": "text/x-python",
   "name": "python",
   "nbconvert_exporter": "python",
   "pygments_lexer": "ipython3",
   "version": "3.9.12"
  }
 },
 "nbformat": 4,
 "nbformat_minor": 5
}
