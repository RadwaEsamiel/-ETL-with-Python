{
 "cells": [
  {
   "cell_type": "code",
   "execution_count": 1,
   "id": "8d2a3717",
   "metadata": {},
   "outputs": [
    {
     "data": {
      "text/plain": [
       "200"
      ]
     },
     "execution_count": 1,
     "metadata": {},
     "output_type": "execute_result"
    }
   ],
   "source": [
    "import requests\n",
    "import json \n",
    "from pandas.io.json import json_normalize \n",
    "import pandas as pd \n",
    "from datetime import datetime\n",
    "\n",
    "response = requests.get(\"https://openexchangerates.org/api/latest.json\",params={'app_id' : '6c324340ee2f47308c06f6104e8ef297'})\n",
    "\n",
    "response.status_code"
   ]
  },
  {
   "cell_type": "code",
   "execution_count": 2,
   "id": "99db4230",
   "metadata": {},
   "outputs": [],
   "source": [
    "api_data = response.json()"
   ]
  },
  {
   "cell_type": "code",
   "execution_count": 3,
   "id": "5d479560",
   "metadata": {},
   "outputs": [],
   "source": [
    "timestamp = api_data.get(\"timestamp\", None)\n",
    "exchange_rates = api_data.get(\"rates\", {})"
   ]
  },
  {
   "cell_type": "code",
   "execution_count": 4,
   "id": "fd1695ff",
   "metadata": {},
   "outputs": [],
   "source": [
    "egp_rate = exchange_rates.get(\"EGP\", None)"
   ]
  },
  {
   "cell_type": "code",
   "execution_count": 5,
   "id": "020b5e08",
   "metadata": {},
   "outputs": [
    {
     "data": {
      "text/plain": [
       "47.855973"
      ]
     },
     "execution_count": 5,
     "metadata": {},
     "output_type": "execute_result"
    }
   ],
   "source": [
    "egp_rate"
   ]
  },
  {
   "cell_type": "code",
   "execution_count": 6,
   "id": "cce46311",
   "metadata": {},
   "outputs": [],
   "source": [
    "exchange = pd.DataFrame({\n",
    "    \"currency\": [\"EGP\"],\n",
    "    \"exchange_rate\": [egp_rate],\n",
    "    \"timestamp\": [datetime.fromtimestamp(timestamp)] \n",
    "})"
   ]
  },
  {
   "cell_type": "code",
   "execution_count": 7,
   "id": "abe5a8a7",
   "metadata": {},
   "outputs": [
    {
     "data": {
      "text/html": [
       "<div>\n",
       "<style scoped>\n",
       "    .dataframe tbody tr th:only-of-type {\n",
       "        vertical-align: middle;\n",
       "    }\n",
       "\n",
       "    .dataframe tbody tr th {\n",
       "        vertical-align: top;\n",
       "    }\n",
       "\n",
       "    .dataframe thead th {\n",
       "        text-align: right;\n",
       "    }\n",
       "</style>\n",
       "<table border=\"1\" class=\"dataframe\">\n",
       "  <thead>\n",
       "    <tr style=\"text-align: right;\">\n",
       "      <th></th>\n",
       "      <th>currency</th>\n",
       "      <th>exchange_rate</th>\n",
       "      <th>timestamp</th>\n",
       "    </tr>\n",
       "  </thead>\n",
       "  <tbody>\n",
       "    <tr>\n",
       "      <th>0</th>\n",
       "      <td>EGP</td>\n",
       "      <td>47.855973</td>\n",
       "      <td>2024-05-02 11:00:00</td>\n",
       "    </tr>\n",
       "  </tbody>\n",
       "</table>\n",
       "</div>"
      ],
      "text/plain": [
       "  currency  exchange_rate           timestamp\n",
       "0      EGP      47.855973 2024-05-02 11:00:00"
      ]
     },
     "execution_count": 7,
     "metadata": {},
     "output_type": "execute_result"
    }
   ],
   "source": [
    "exchange"
   ]
  },
  {
   "cell_type": "code",
   "execution_count": 8,
   "id": "cae2db13",
   "metadata": {},
   "outputs": [],
   "source": [
    "csv_path = \"/home/radwa/Radwa.Usecase/Source/bikestore_dim/exchange.csv\" \n",
    "exchange.to_csv(csv_path, index=False)"
   ]
  },
  {
   "cell_type": "code",
   "execution_count": null,
   "id": "85339e19",
   "metadata": {},
   "outputs": [],
   "source": []
  }
 ],
 "metadata": {
  "kernelspec": {
   "display_name": "Python 3 (ipykernel)",
   "language": "python",
   "name": "python3"
  },
  "language_info": {
   "codemirror_mode": {
    "name": "ipython",
    "version": 3
   },
   "file_extension": ".py",
   "mimetype": "text/x-python",
   "name": "python",
   "nbconvert_exporter": "python",
   "pygments_lexer": "ipython3",
   "version": "3.9.12"
  }
 },
 "nbformat": 4,
 "nbformat_minor": 5
}
