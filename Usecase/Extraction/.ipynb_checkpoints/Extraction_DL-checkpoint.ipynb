{
 "cells": [
  {
   "cell_type": "code",
   "execution_count": 1,
   "id": "68d60cc7",
   "metadata": {},
   "outputs": [],
   "source": [
    "import pandas as pd\n",
    "from datetime import datetime\n",
    "import os\n",
    "\n",
    "def process_csv(source_file_path, destination_folder, source_name):\n",
    "    df = pd.read_csv(source_file_path)\n",
    "\n",
    "    df[\"Extract_time\"] = datetime.now()\n",
    "\n",
    "    df[\"Source\"] = source_name\n",
    "\n",
    "    if not os.path.exists(destination_folder):\n",
    "        os.makedirs(destination_folder)\n",
    "\n",
    "    source_file_name = os.path.basename(source_file_path)\n",
    "    destination_file_path = os.path.join(destination_folder, source_file_name)\n",
    "\n",
    "    df.to_csv(destination_file_path, index=False)\n",
    "\n",
    "    print(f\"Saved CSV file to: {destination_file_path}\")\n"
   ]
  },
  {
   "cell_type": "code",
   "execution_count": 4,
   "id": "e2c2fbe8",
   "metadata": {},
   "outputs": [
    {
     "name": "stdout",
     "output_type": "stream",
     "text": [
      "Saved CSV file to: /home/radwa/Radwa.Usecase/Landing/Brands/brands.csv\n"
     ]
    }
   ],
   "source": [
    "source_csv_path = \"/home/radwa/Radwa.Usecase/Source/bikestore_dim/Brands/brands.csv\" \n",
    "destination_folder = \"/home/radwa/Radwa.Usecase/Landing/Brands\"  \n",
    "source_name = \"Datalake\"  \n",
    "\n",
    "process_csv(source_csv_path, destination_folder, source_name)\n"
   ]
  },
  {
   "cell_type": "code",
   "execution_count": 5,
   "id": "4eae379c",
   "metadata": {},
   "outputs": [
    {
     "name": "stdout",
     "output_type": "stream",
     "text": [
      "Saved CSV file to: /home/radwa/Radwa.Usecase/Landing/Categories/categories.csv\n"
     ]
    }
   ],
   "source": [
    "source_csv_path = \"/home/radwa/Radwa.Usecase/Source/bikestore_dim/Categories/categories.csv\" \n",
    "destination_folder = \"/home/radwa/Radwa.Usecase/Landing/Categories\"  \n",
    "source_name = \"Datalake\"  \n",
    "\n",
    "process_csv(source_csv_path, destination_folder, source_name)\n"
   ]
  },
  {
   "cell_type": "code",
   "execution_count": 6,
   "id": "29a77ba0",
   "metadata": {},
   "outputs": [
    {
     "name": "stdout",
     "output_type": "stream",
     "text": [
      "Saved CSV file to: /home/radwa/Radwa.Usecase/Landing/Customers/customers.csv\n"
     ]
    }
   ],
   "source": [
    "source_csv_path = \"/home/radwa/Radwa.Usecase/Source/bikestore_dim/Customers/customers.csv\" \n",
    "destination_folder = \"/home/radwa/Radwa.Usecase/Landing/Customers\"  \n",
    "source_name = \"Datalake\"  \n",
    "\n",
    "process_csv(source_csv_path, destination_folder, source_name)\n"
   ]
  },
  {
   "cell_type": "code",
   "execution_count": 7,
   "id": "fc9871e8",
   "metadata": {},
   "outputs": [
    {
     "name": "stdout",
     "output_type": "stream",
     "text": [
      "Saved CSV file to: /home/radwa/Radwa.Usecase/Landing/Products/products.csv\n"
     ]
    }
   ],
   "source": [
    "source_csv_path = \"/home/radwa/Radwa.Usecase/Source/bikestore_dim/Products/products.csv\" \n",
    "destination_folder = \"/home/radwa/Radwa.Usecase/Landing/Products\"  \n",
    "source_name = \"Datalake\"  \n",
    "\n",
    "process_csv(source_csv_path, destination_folder, source_name)\n"
   ]
  },
  {
   "cell_type": "code",
   "execution_count": 8,
   "id": "2d6a3fd8",
   "metadata": {},
   "outputs": [
    {
     "name": "stdout",
     "output_type": "stream",
     "text": [
      "Saved CSV file to: /home/radwa/Radwa.Usecase/Landing/Staffs/staffs.csv\n"
     ]
    }
   ],
   "source": [
    "source_csv_path = \"/home/radwa/Radwa.Usecase/Source/bikestore_dim/Staffs/staffs.csv\" \n",
    "destination_folder = \"/home/radwa/Radwa.Usecase/Landing/Staffs\"  \n",
    "source_name = \"Datalake\"  \n",
    "\n",
    "process_csv(source_csv_path, destination_folder, source_name)\n"
   ]
  },
  {
   "cell_type": "code",
   "execution_count": 9,
   "id": "1a21271d",
   "metadata": {},
   "outputs": [
    {
     "name": "stdout",
     "output_type": "stream",
     "text": [
      "Saved CSV file to: /home/radwa/Radwa.Usecase/Landing/Stocks/stocks.csv\n"
     ]
    }
   ],
   "source": [
    "source_csv_path = \"/home/radwa/Radwa.Usecase/Source/bikestore_dim/Stocks/stocks.csv\" \n",
    "destination_folder = \"/home/radwa/Radwa.Usecase/Landing/Stocks\"  \n",
    "source_name = \"Datalake\"  \n",
    "\n",
    "process_csv(source_csv_path, destination_folder, source_name)\n"
   ]
  },
  {
   "cell_type": "code",
   "execution_count": 10,
   "id": "55794336",
   "metadata": {},
   "outputs": [
    {
     "name": "stdout",
     "output_type": "stream",
     "text": [
      "Saved CSV file to: /home/radwa/Radwa.Usecase/Landing/Stores/stores.csv\n"
     ]
    }
   ],
   "source": [
    "source_csv_path = \"/home/radwa/Radwa.Usecase/Source/bikestore_dim/Stores/stores.csv\" \n",
    "destination_folder = \"/home/radwa/Radwa.Usecase/Landing/Stores\"  \n",
    "source_name = \"Datalake\"  \n",
    "\n",
    "process_csv(source_csv_path, destination_folder, source_name)\n"
   ]
  },
  {
   "cell_type": "code",
   "execution_count": 11,
   "id": "ead3f3ce",
   "metadata": {},
   "outputs": [
    {
     "name": "stdout",
     "output_type": "stream",
     "text": [
      "Saved CSV file to: /home/radwa/Radwa.Usecase/Landing/Exchange/exchange.csv\n"
     ]
    }
   ],
   "source": [
    "source_csv_path = \"/home/radwa/Radwa.Usecase/Source/bikestore_dim/exchange.csv\" \n",
    "destination_folder = \"/home/radwa/Radwa.Usecase/Landing/Exchange\"  \n",
    "source_name = \"API\"  \n",
    "\n",
    "process_csv(source_csv_path, destination_folder, source_name)"
   ]
  },
  {
   "cell_type": "code",
   "execution_count": null,
   "id": "4a3889fc",
   "metadata": {},
   "outputs": [],
   "source": []
  },
  {
   "cell_type": "code",
   "execution_count": null,
   "id": "63ea63fc",
   "metadata": {},
   "outputs": [],
   "source": []
  }
 ],
 "metadata": {
  "kernelspec": {
   "display_name": "Python 3 (ipykernel)",
   "language": "python",
   "name": "python3"
  },
  "language_info": {
   "codemirror_mode": {
    "name": "ipython",
    "version": 3
   },
   "file_extension": ".py",
   "mimetype": "text/x-python",
   "name": "python",
   "nbconvert_exporter": "python",
   "pygments_lexer": "ipython3",
   "version": "3.9.12"
  }
 },
 "nbformat": 4,
 "nbformat_minor": 5
}
