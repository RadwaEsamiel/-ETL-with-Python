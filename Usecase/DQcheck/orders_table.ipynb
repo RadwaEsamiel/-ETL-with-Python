{
 "cells": [
  {
   "cell_type": "code",
   "execution_count": 57,
   "id": "1021a376",
   "metadata": {},
   "outputs": [],
   "source": [
    "import sqlalchemy as db\n",
    "import pandas as pd\n",
    "import numpy as np\n",
    "\n",
    "\n",
    "path = \"/home/radwa/Radwa.Usecase/Landing/orders/orders.csv\"\n",
    "\n",
    "df_order = pd.read_csv(path)"
   ]
  },
  {
   "cell_type": "code",
   "execution_count": 66,
   "id": "1c8fd92c",
   "metadata": {},
   "outputs": [
    {
     "data": {
      "text/plain": [
       "order_id         0\n",
       "customer_id      0\n",
       "order_status     0\n",
       "order_date       0\n",
       "required_date    0\n",
       "shipped_date     0\n",
       "store_id         0\n",
       "staff_id         0\n",
       "Extract_time     0\n",
       "Source           0\n",
       "dtype: int64"
      ]
     },
     "execution_count": 66,
     "metadata": {},
     "output_type": "execute_result"
    }
   ],
   "source": [
    "df_order.isnull().sum()"
   ]
  },
  {
   "cell_type": "code",
   "execution_count": 67,
   "id": "43cdf7d0",
   "metadata": {},
   "outputs": [
    {
     "name": "stdout",
     "output_type": "stream",
     "text": [
      "<class 'pandas.core.frame.DataFrame'>\n",
      "RangeIndex: 6460 entries, 0 to 6459\n",
      "Data columns (total 10 columns):\n",
      " #   Column         Non-Null Count  Dtype         \n",
      "---  ------         --------------  -----         \n",
      " 0   order_id       6460 non-null   int64         \n",
      " 1   customer_id    6460 non-null   int64         \n",
      " 2   order_status   6460 non-null   int64         \n",
      " 3   order_date     6460 non-null   datetime64[ns]\n",
      " 4   required_date  6460 non-null   datetime64[ns]\n",
      " 5   shipped_date   6460 non-null   datetime64[ns]\n",
      " 6   store_id       6460 non-null   int64         \n",
      " 7   staff_id       6460 non-null   int64         \n",
      " 8   Extract_time   6460 non-null   object        \n",
      " 9   Source         6460 non-null   object        \n",
      "dtypes: datetime64[ns](3), int64(5), object(2)\n",
      "memory usage: 504.8+ KB\n"
     ]
    }
   ],
   "source": [
    "df_order.info()"
   ]
  },
  {
   "cell_type": "code",
   "execution_count": 60,
   "id": "355e346e",
   "metadata": {},
   "outputs": [],
   "source": [
    "df_order[\"order_date\"] = pd.to_datetime(df_order[\"order_date\"], errors='coerce')"
   ]
  },
  {
   "cell_type": "code",
   "execution_count": 61,
   "id": "efa7bb28",
   "metadata": {},
   "outputs": [],
   "source": [
    "df_order[\"required_date\"] = pd.to_datetime(df_order[\"required_date\"], errors='coerce')"
   ]
  },
  {
   "cell_type": "code",
   "execution_count": 62,
   "id": "7195c6dd",
   "metadata": {},
   "outputs": [],
   "source": [
    "df_order[\"shipped_date\"] = pd.to_datetime(df_order[\"shipped_date\"], errors='coerce')"
   ]
  },
  {
   "cell_type": "code",
   "execution_count": 63,
   "id": "ba433a12",
   "metadata": {},
   "outputs": [],
   "source": [
    "order_date_mean = df_order['order_date']\n",
    "\n",
    "date_mean = order_date_mean.mean()\n",
    "\n",
    "df_order['order_date'].fillna(date_mean, inplace=True)\n"
   ]
  },
  {
   "cell_type": "code",
   "execution_count": 64,
   "id": "9997b4a0",
   "metadata": {},
   "outputs": [],
   "source": [
    "\n",
    "df_order['shipped_date'].fillna(method = 'ffill', inplace=True)\n"
   ]
  },
  {
   "cell_type": "code",
   "execution_count": 65,
   "id": "c940b7ba",
   "metadata": {},
   "outputs": [],
   "source": [
    "df_order['required_date'].fillna(method = 'ffill', inplace=True)"
   ]
  },
  {
   "cell_type": "code",
   "execution_count": 68,
   "id": "6ad73631",
   "metadata": {},
   "outputs": [
    {
     "data": {
      "text/html": [
       "<div>\n",
       "<style scoped>\n",
       "    .dataframe tbody tr th:only-of-type {\n",
       "        vertical-align: middle;\n",
       "    }\n",
       "\n",
       "    .dataframe tbody tr th {\n",
       "        vertical-align: top;\n",
       "    }\n",
       "\n",
       "    .dataframe thead th {\n",
       "        text-align: right;\n",
       "    }\n",
       "</style>\n",
       "<table border=\"1\" class=\"dataframe\">\n",
       "  <thead>\n",
       "    <tr style=\"text-align: right;\">\n",
       "      <th></th>\n",
       "      <th>order_id</th>\n",
       "      <th>customer_id</th>\n",
       "      <th>order_status</th>\n",
       "      <th>order_date</th>\n",
       "      <th>required_date</th>\n",
       "      <th>shipped_date</th>\n",
       "      <th>store_id</th>\n",
       "      <th>staff_id</th>\n",
       "      <th>Extract_time</th>\n",
       "      <th>Source</th>\n",
       "    </tr>\n",
       "  </thead>\n",
       "  <tbody>\n",
       "    <tr>\n",
       "      <th>0</th>\n",
       "      <td>1</td>\n",
       "      <td>259</td>\n",
       "      <td>4</td>\n",
       "      <td>2016-01-01</td>\n",
       "      <td>2016-01-03</td>\n",
       "      <td>2016-01-03</td>\n",
       "      <td>1</td>\n",
       "      <td>2</td>\n",
       "      <td>2024-05-02 11:54:57.869750</td>\n",
       "      <td>postgres</td>\n",
       "    </tr>\n",
       "    <tr>\n",
       "      <th>1</th>\n",
       "      <td>2</td>\n",
       "      <td>1212</td>\n",
       "      <td>4</td>\n",
       "      <td>2016-01-01</td>\n",
       "      <td>2016-01-04</td>\n",
       "      <td>2016-01-03</td>\n",
       "      <td>2</td>\n",
       "      <td>6</td>\n",
       "      <td>2024-05-02 11:54:57.869750</td>\n",
       "      <td>postgres</td>\n",
       "    </tr>\n",
       "    <tr>\n",
       "      <th>2</th>\n",
       "      <td>3</td>\n",
       "      <td>523</td>\n",
       "      <td>4</td>\n",
       "      <td>2016-01-02</td>\n",
       "      <td>2016-01-05</td>\n",
       "      <td>2016-01-03</td>\n",
       "      <td>2</td>\n",
       "      <td>7</td>\n",
       "      <td>2024-05-02 11:54:57.869750</td>\n",
       "      <td>postgres</td>\n",
       "    </tr>\n",
       "    <tr>\n",
       "      <th>3</th>\n",
       "      <td>4</td>\n",
       "      <td>175</td>\n",
       "      <td>4</td>\n",
       "      <td>2016-01-03</td>\n",
       "      <td>2016-01-04</td>\n",
       "      <td>2016-01-05</td>\n",
       "      <td>1</td>\n",
       "      <td>3</td>\n",
       "      <td>2024-05-02 11:54:57.869750</td>\n",
       "      <td>postgres</td>\n",
       "    </tr>\n",
       "    <tr>\n",
       "      <th>4</th>\n",
       "      <td>5</td>\n",
       "      <td>1324</td>\n",
       "      <td>4</td>\n",
       "      <td>2016-01-03</td>\n",
       "      <td>2016-01-06</td>\n",
       "      <td>2016-01-06</td>\n",
       "      <td>2</td>\n",
       "      <td>6</td>\n",
       "      <td>2024-05-02 11:54:57.869750</td>\n",
       "      <td>postgres</td>\n",
       "    </tr>\n",
       "    <tr>\n",
       "      <th>...</th>\n",
       "      <td>...</td>\n",
       "      <td>...</td>\n",
       "      <td>...</td>\n",
       "      <td>...</td>\n",
       "      <td>...</td>\n",
       "      <td>...</td>\n",
       "      <td>...</td>\n",
       "      <td>...</td>\n",
       "      <td>...</td>\n",
       "      <td>...</td>\n",
       "    </tr>\n",
       "    <tr>\n",
       "      <th>6455</th>\n",
       "      <td>1611</td>\n",
       "      <td>6</td>\n",
       "      <td>3</td>\n",
       "      <td>2018-09-06</td>\n",
       "      <td>2018-09-06</td>\n",
       "      <td>2018-04-02</td>\n",
       "      <td>2</td>\n",
       "      <td>7</td>\n",
       "      <td>2024-05-02 11:54:57.869750</td>\n",
       "      <td>postgres</td>\n",
       "    </tr>\n",
       "    <tr>\n",
       "      <th>6456</th>\n",
       "      <td>1612</td>\n",
       "      <td>3</td>\n",
       "      <td>3</td>\n",
       "      <td>2018-10-21</td>\n",
       "      <td>2018-10-21</td>\n",
       "      <td>2018-04-02</td>\n",
       "      <td>1</td>\n",
       "      <td>3</td>\n",
       "      <td>2024-05-02 11:54:57.869750</td>\n",
       "      <td>postgres</td>\n",
       "    </tr>\n",
       "    <tr>\n",
       "      <th>6457</th>\n",
       "      <td>1613</td>\n",
       "      <td>1</td>\n",
       "      <td>3</td>\n",
       "      <td>2018-11-18</td>\n",
       "      <td>2018-11-18</td>\n",
       "      <td>2018-04-02</td>\n",
       "      <td>2</td>\n",
       "      <td>6</td>\n",
       "      <td>2024-05-02 11:54:57.869750</td>\n",
       "      <td>postgres</td>\n",
       "    </tr>\n",
       "    <tr>\n",
       "      <th>6458</th>\n",
       "      <td>1614</td>\n",
       "      <td>135</td>\n",
       "      <td>3</td>\n",
       "      <td>2018-11-28</td>\n",
       "      <td>2018-11-28</td>\n",
       "      <td>2018-04-02</td>\n",
       "      <td>3</td>\n",
       "      <td>8</td>\n",
       "      <td>2024-05-02 11:54:57.869750</td>\n",
       "      <td>postgres</td>\n",
       "    </tr>\n",
       "    <tr>\n",
       "      <th>6459</th>\n",
       "      <td>1615</td>\n",
       "      <td>136</td>\n",
       "      <td>3</td>\n",
       "      <td>2018-12-28</td>\n",
       "      <td>2018-12-28</td>\n",
       "      <td>2018-04-02</td>\n",
       "      <td>3</td>\n",
       "      <td>8</td>\n",
       "      <td>2024-05-02 11:54:57.869750</td>\n",
       "      <td>postgres</td>\n",
       "    </tr>\n",
       "  </tbody>\n",
       "</table>\n",
       "<p>6460 rows × 10 columns</p>\n",
       "</div>"
      ],
      "text/plain": [
       "      order_id  customer_id  order_status order_date required_date  \\\n",
       "0            1          259             4 2016-01-01    2016-01-03   \n",
       "1            2         1212             4 2016-01-01    2016-01-04   \n",
       "2            3          523             4 2016-01-02    2016-01-05   \n",
       "3            4          175             4 2016-01-03    2016-01-04   \n",
       "4            5         1324             4 2016-01-03    2016-01-06   \n",
       "...        ...          ...           ...        ...           ...   \n",
       "6455      1611            6             3 2018-09-06    2018-09-06   \n",
       "6456      1612            3             3 2018-10-21    2018-10-21   \n",
       "6457      1613            1             3 2018-11-18    2018-11-18   \n",
       "6458      1614          135             3 2018-11-28    2018-11-28   \n",
       "6459      1615          136             3 2018-12-28    2018-12-28   \n",
       "\n",
       "     shipped_date  store_id  staff_id                Extract_time    Source  \n",
       "0      2016-01-03         1         2  2024-05-02 11:54:57.869750  postgres  \n",
       "1      2016-01-03         2         6  2024-05-02 11:54:57.869750  postgres  \n",
       "2      2016-01-03         2         7  2024-05-02 11:54:57.869750  postgres  \n",
       "3      2016-01-05         1         3  2024-05-02 11:54:57.869750  postgres  \n",
       "4      2016-01-06         2         6  2024-05-02 11:54:57.869750  postgres  \n",
       "...           ...       ...       ...                         ...       ...  \n",
       "6455   2018-04-02         2         7  2024-05-02 11:54:57.869750  postgres  \n",
       "6456   2018-04-02         1         3  2024-05-02 11:54:57.869750  postgres  \n",
       "6457   2018-04-02         2         6  2024-05-02 11:54:57.869750  postgres  \n",
       "6458   2018-04-02         3         8  2024-05-02 11:54:57.869750  postgres  \n",
       "6459   2018-04-02         3         8  2024-05-02 11:54:57.869750  postgres  \n",
       "\n",
       "[6460 rows x 10 columns]"
      ]
     },
     "execution_count": 68,
     "metadata": {},
     "output_type": "execute_result"
    }
   ],
   "source": [
    "df_order"
   ]
  },
  {
   "cell_type": "code",
   "execution_count": 69,
   "id": "bc74e102",
   "metadata": {},
   "outputs": [
    {
     "name": "stdout",
     "output_type": "stream",
     "text": [
      "Rows with duplicate 'id':\n",
      "      order_id  customer_id  order_status order_date required_date  \\\n",
      "1615         1          259             4 2016-01-01    2016-01-03   \n",
      "1616         2         1212             4 2016-01-01    2016-01-04   \n",
      "1617         3          523             4 2016-01-02    2016-01-05   \n",
      "1618         4          175             4 2016-01-03    2016-01-04   \n",
      "1619         5         1324             4 2016-01-03    2016-01-06   \n",
      "...        ...          ...           ...        ...           ...   \n",
      "6455      1611            6             3 2018-09-06    2018-09-06   \n",
      "6456      1612            3             3 2018-10-21    2018-10-21   \n",
      "6457      1613            1             3 2018-11-18    2018-11-18   \n",
      "6458      1614          135             3 2018-11-28    2018-11-28   \n",
      "6459      1615          136             3 2018-12-28    2018-12-28   \n",
      "\n",
      "     shipped_date  store_id  staff_id                Extract_time    Source  \n",
      "1615   2016-01-03         1         2  2024-05-02 11:54:57.869750  postgres  \n",
      "1616   2016-01-03         2         6  2024-05-02 11:54:57.869750  postgres  \n",
      "1617   2016-01-03         2         7  2024-05-02 11:54:57.869750  postgres  \n",
      "1618   2016-01-05         1         3  2024-05-02 11:54:57.869750  postgres  \n",
      "1619   2016-01-06         2         6  2024-05-02 11:54:57.869750  postgres  \n",
      "...           ...       ...       ...                         ...       ...  \n",
      "6455   2018-04-02         2         7  2024-05-02 11:54:57.869750  postgres  \n",
      "6456   2018-04-02         1         3  2024-05-02 11:54:57.869750  postgres  \n",
      "6457   2018-04-02         2         6  2024-05-02 11:54:57.869750  postgres  \n",
      "6458   2018-04-02         3         8  2024-05-02 11:54:57.869750  postgres  \n",
      "6459   2018-04-02         3         8  2024-05-02 11:54:57.869750  postgres  \n",
      "\n",
      "[4845 rows x 10 columns]\n"
     ]
    }
   ],
   "source": [
    "duplicate_ids = df_order['order_id'].duplicated() \n",
    "\n",
    "df_duplicate_ids = df_order[duplicate_ids]\n",
    "\n",
    "print(\"Rows with duplicate 'id':\")\n",
    "print(df_duplicate_ids)\n"
   ]
  },
  {
   "cell_type": "code",
   "execution_count": 70,
   "id": "676da67f",
   "metadata": {},
   "outputs": [
    {
     "name": "stdout",
     "output_type": "stream",
     "text": [
      "Duplicate rows:\n",
      "      order_id  customer_id  order_status order_date required_date  \\\n",
      "1615         1          259             4 2016-01-01    2016-01-03   \n",
      "1616         2         1212             4 2016-01-01    2016-01-04   \n",
      "1617         3          523             4 2016-01-02    2016-01-05   \n",
      "1618         4          175             4 2016-01-03    2016-01-04   \n",
      "1619         5         1324             4 2016-01-03    2016-01-06   \n",
      "...        ...          ...           ...        ...           ...   \n",
      "6455      1611            6             3 2018-09-06    2018-09-06   \n",
      "6456      1612            3             3 2018-10-21    2018-10-21   \n",
      "6457      1613            1             3 2018-11-18    2018-11-18   \n",
      "6458      1614          135             3 2018-11-28    2018-11-28   \n",
      "6459      1615          136             3 2018-12-28    2018-12-28   \n",
      "\n",
      "     shipped_date  store_id  staff_id                Extract_time    Source  \n",
      "1615   2016-01-03         1         2  2024-05-02 11:54:57.869750  postgres  \n",
      "1616   2016-01-03         2         6  2024-05-02 11:54:57.869750  postgres  \n",
      "1617   2016-01-03         2         7  2024-05-02 11:54:57.869750  postgres  \n",
      "1618   2016-01-05         1         3  2024-05-02 11:54:57.869750  postgres  \n",
      "1619   2016-01-06         2         6  2024-05-02 11:54:57.869750  postgres  \n",
      "...           ...       ...       ...                         ...       ...  \n",
      "6455   2018-04-02         2         7  2024-05-02 11:54:57.869750  postgres  \n",
      "6456   2018-04-02         1         3  2024-05-02 11:54:57.869750  postgres  \n",
      "6457   2018-04-02         2         6  2024-05-02 11:54:57.869750  postgres  \n",
      "6458   2018-04-02         3         8  2024-05-02 11:54:57.869750  postgres  \n",
      "6459   2018-04-02         3         8  2024-05-02 11:54:57.869750  postgres  \n",
      "\n",
      "[4817 rows x 10 columns]\n"
     ]
    }
   ],
   "source": [
    "duplicate_rows = df_order.duplicated()  \n",
    "\n",
    "df_duplicates = df_order[duplicate_rows]\n",
    "\n",
    "print(\"Duplicate rows:\")\n",
    "print(df_duplicates)"
   ]
  },
  {
   "cell_type": "code",
   "execution_count": 71,
   "id": "b6137741",
   "metadata": {},
   "outputs": [],
   "source": [
    "df_order['order_id'].drop_duplicates(inplace=True, keep=\"first\")"
   ]
  },
  {
   "cell_type": "code",
   "execution_count": 72,
   "id": "3fe73c4e",
   "metadata": {},
   "outputs": [],
   "source": [
    "start_date = pd.to_datetime(\"2000-01-01\") \n",
    "end_date = pd.to_datetime(\"2024-12-31\")  \n",
    "\n",
    "is_within_range = df_order[\"order_date\"].between(start_date, end_date)\n",
    "\n",
    "df_order_table = df_order[is_within_range] "
   ]
  },
  {
   "cell_type": "code",
   "execution_count": 73,
   "id": "acbdff88",
   "metadata": {},
   "outputs": [],
   "source": [
    "import os\n",
    "\n",
    "csv_path = \"/home/radwa/Radwa.Usecase/staging_1/orders/orders.csv\" \n",
    "\n",
    "directory = os.path.dirname(csv_path)\n",
    "if not os.path.exists(directory):\n",
    "    os.makedirs(directory)\n",
    "    \n",
    "df_order_table.to_csv(csv_path, index=False)"
   ]
  },
  {
   "cell_type": "code",
   "execution_count": null,
   "id": "932f13cb",
   "metadata": {},
   "outputs": [],
   "source": []
  }
 ],
 "metadata": {
  "kernelspec": {
   "display_name": "Python 3 (ipykernel)",
   "language": "python",
   "name": "python3"
  },
  "language_info": {
   "codemirror_mode": {
    "name": "ipython",
    "version": 3
   },
   "file_extension": ".py",
   "mimetype": "text/x-python",
   "name": "python",
   "nbconvert_exporter": "python",
   "pygments_lexer": "ipython3",
   "version": "3.9.12"
  }
 },
 "nbformat": 4,
 "nbformat_minor": 5
}
