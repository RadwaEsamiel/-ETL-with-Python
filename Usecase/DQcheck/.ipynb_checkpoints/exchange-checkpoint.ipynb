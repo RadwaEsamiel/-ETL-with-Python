{
 "cells": [
  {
   "cell_type": "code",
   "execution_count": 2,
   "id": "e8274e9c",
   "metadata": {},
   "outputs": [],
   "source": [
    "import sqlalchemy as db\n",
    "import pandas as pd\n",
    "import numpy as np\n",
    "\n",
    "\n",
    "path = \"/home/radwa/Radwa.Usecase/Landing/Exchange/exchange.csv\"\n",
    "\n",
    "df_exchange = pd.read_csv(path)"
   ]
  },
  {
   "cell_type": "code",
   "execution_count": 4,
   "id": "6ac913f9",
   "metadata": {},
   "outputs": [
    {
     "data": {
      "text/plain": [
       "currency         0\n",
       "exchange_rate    0\n",
       "timestamp        0\n",
       "Extract_time     0\n",
       "Source           0\n",
       "dtype: int64"
      ]
     },
     "execution_count": 4,
     "metadata": {},
     "output_type": "execute_result"
    }
   ],
   "source": [
    "df_exchange.isnull().sum()"
   ]
  },
  {
   "cell_type": "code",
   "execution_count": 5,
   "id": "274a1d87",
   "metadata": {},
   "outputs": [
    {
     "name": "stdout",
     "output_type": "stream",
     "text": [
      "<class 'pandas.core.frame.DataFrame'>\n",
      "RangeIndex: 1 entries, 0 to 0\n",
      "Data columns (total 5 columns):\n",
      " #   Column         Non-Null Count  Dtype  \n",
      "---  ------         --------------  -----  \n",
      " 0   currency       1 non-null      object \n",
      " 1   exchange_rate  1 non-null      float64\n",
      " 2   timestamp      1 non-null      object \n",
      " 3   Extract_time   1 non-null      object \n",
      " 4   Source         1 non-null      object \n",
      "dtypes: float64(1), object(4)\n",
      "memory usage: 168.0+ bytes\n"
     ]
    }
   ],
   "source": [
    "df_exchange.info()"
   ]
  },
  {
   "cell_type": "code",
   "execution_count": 7,
   "id": "42b97068",
   "metadata": {},
   "outputs": [],
   "source": [
    "import os\n",
    "\n",
    "csv_path = \"/home/radwa/Radwa.Usecase/staging_1/Exchange/exchange.csv\" \n",
    "\n",
    "directory = os.path.dirname(csv_path)\n",
    "if not os.path.exists(directory):\n",
    "    os.makedirs(directory)\n",
    "    \n",
    "df_exchange.to_csv(csv_path, index=False)"
   ]
  },
  {
   "cell_type": "code",
   "execution_count": null,
   "id": "9b33432e",
   "metadata": {},
   "outputs": [],
   "source": []
  }
 ],
 "metadata": {
  "kernelspec": {
   "display_name": "Python 3 (ipykernel)",
   "language": "python",
   "name": "python3"
  },
  "language_info": {
   "codemirror_mode": {
    "name": "ipython",
    "version": 3
   },
   "file_extension": ".py",
   "mimetype": "text/x-python",
   "name": "python",
   "nbconvert_exporter": "python",
   "pygments_lexer": "ipython3",
   "version": "3.9.12"
  }
 },
 "nbformat": 4,
 "nbformat_minor": 5
}
