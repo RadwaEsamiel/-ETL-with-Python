{
 "cells": [
  {
   "cell_type": "code",
   "execution_count": 13,
   "id": "e8274e9c",
   "metadata": {},
   "outputs": [],
   "source": [
    "import sqlalchemy as db\n",
    "import pandas as pd\n",
    "import numpy as np\n",
    "\n",
    "\n",
    "path = \"/home/radwa/Radwa.Usecase/Landing/Stores/stores.csv\"\n",
    "\n",
    "df_stores = pd.read_csv(path)"
   ]
  },
  {
   "cell_type": "code",
   "execution_count": 14,
   "id": "6ac913f9",
   "metadata": {},
   "outputs": [
    {
     "data": {
      "text/plain": [
       "store_id        0\n",
       "store_name      0\n",
       "phone           0\n",
       "email           1\n",
       "street          0\n",
       "city            0\n",
       "state           0\n",
       "zip_code        1\n",
       "Extract_time    0\n",
       "Source          0\n",
       "dtype: int64"
      ]
     },
     "execution_count": 14,
     "metadata": {},
     "output_type": "execute_result"
    }
   ],
   "source": [
    "df_stores.isnull().sum()"
   ]
  },
  {
   "cell_type": "code",
   "execution_count": 15,
   "id": "274a1d87",
   "metadata": {},
   "outputs": [
    {
     "name": "stdout",
     "output_type": "stream",
     "text": [
      "<class 'pandas.core.frame.DataFrame'>\n",
      "RangeIndex: 3 entries, 0 to 2\n",
      "Data columns (total 10 columns):\n",
      " #   Column        Non-Null Count  Dtype  \n",
      "---  ------        --------------  -----  \n",
      " 0   store_id      3 non-null      int64  \n",
      " 1   store_name    3 non-null      object \n",
      " 2   phone         3 non-null      object \n",
      " 3   email         2 non-null      object \n",
      " 4   street        3 non-null      object \n",
      " 5   city          3 non-null      object \n",
      " 6   state         3 non-null      object \n",
      " 7   zip_code      2 non-null      float64\n",
      " 8   Extract_time  3 non-null      object \n",
      " 9   Source        3 non-null      object \n",
      "dtypes: float64(1), int64(1), object(8)\n",
      "memory usage: 368.0+ bytes\n"
     ]
    }
   ],
   "source": [
    "df_stores.info()"
   ]
  },
  {
   "cell_type": "code",
   "execution_count": 16,
   "id": "a91e012f",
   "metadata": {},
   "outputs": [],
   "source": [
    "\n",
    "df_stores_zip_code = \"00000.0\"\n",
    "\n",
    "df_stores['zip_code'].fillna(df_stores_zip_code, inplace=True)"
   ]
  },
  {
   "cell_type": "code",
   "execution_count": 17,
   "id": "2c4c7bde",
   "metadata": {},
   "outputs": [],
   "source": [
    "df_stores_email = \"unknown\"\n",
    "\n",
    "df_stores['email'].fillna(df_stores_email, inplace=True)"
   ]
  },
  {
   "cell_type": "code",
   "execution_count": 18,
   "id": "5fb4a4c5",
   "metadata": {},
   "outputs": [
    {
     "data": {
      "text/plain": [
       "(3, 10)"
      ]
     },
     "execution_count": 18,
     "metadata": {},
     "output_type": "execute_result"
    }
   ],
   "source": [
    "df_stores.shape"
   ]
  },
  {
   "cell_type": "code",
   "execution_count": 19,
   "id": "23e32a23",
   "metadata": {},
   "outputs": [],
   "source": [
    "df_stores_final = df_stores.drop_duplicates()"
   ]
  },
  {
   "cell_type": "code",
   "execution_count": 20,
   "id": "7cc83a9c",
   "metadata": {},
   "outputs": [
    {
     "data": {
      "text/html": [
       "<div>\n",
       "<style scoped>\n",
       "    .dataframe tbody tr th:only-of-type {\n",
       "        vertical-align: middle;\n",
       "    }\n",
       "\n",
       "    .dataframe tbody tr th {\n",
       "        vertical-align: top;\n",
       "    }\n",
       "\n",
       "    .dataframe thead th {\n",
       "        text-align: right;\n",
       "    }\n",
       "</style>\n",
       "<table border=\"1\" class=\"dataframe\">\n",
       "  <thead>\n",
       "    <tr style=\"text-align: right;\">\n",
       "      <th></th>\n",
       "      <th>store_id</th>\n",
       "      <th>store_name</th>\n",
       "      <th>phone</th>\n",
       "      <th>email</th>\n",
       "      <th>street</th>\n",
       "      <th>city</th>\n",
       "      <th>state</th>\n",
       "      <th>zip_code</th>\n",
       "      <th>Extract_time</th>\n",
       "      <th>Source</th>\n",
       "    </tr>\n",
       "  </thead>\n",
       "  <tbody>\n",
       "    <tr>\n",
       "      <th>0</th>\n",
       "      <td>1</td>\n",
       "      <td>Santa Cruz Bikes</td>\n",
       "      <td>(831) 476-4321</td>\n",
       "      <td>unknown</td>\n",
       "      <td>3700 Portola Drive</td>\n",
       "      <td>Santa Cruz</td>\n",
       "      <td>CA</td>\n",
       "      <td>00000.0</td>\n",
       "      <td>2024-05-02 11:57:33.237966</td>\n",
       "      <td>Datalake</td>\n",
       "    </tr>\n",
       "    <tr>\n",
       "      <th>1</th>\n",
       "      <td>2</td>\n",
       "      <td>Baldwin Bikes</td>\n",
       "      <td>(516) 379-8888</td>\n",
       "      <td>baldwin@bikes.shop</td>\n",
       "      <td>4200 Chestnut Lane</td>\n",
       "      <td>Baldwin</td>\n",
       "      <td>NY</td>\n",
       "      <td>11432.0</td>\n",
       "      <td>2024-05-02 11:57:33.237966</td>\n",
       "      <td>Datalake</td>\n",
       "    </tr>\n",
       "    <tr>\n",
       "      <th>2</th>\n",
       "      <td>3</td>\n",
       "      <td>Rowlett Bikes</td>\n",
       "      <td>(972) 530-5555</td>\n",
       "      <td>rowlett@bikes.shop</td>\n",
       "      <td>8000 Fairway Avenue</td>\n",
       "      <td>Rowlett</td>\n",
       "      <td>TX</td>\n",
       "      <td>75088.0</td>\n",
       "      <td>2024-05-02 11:57:33.237966</td>\n",
       "      <td>Datalake</td>\n",
       "    </tr>\n",
       "  </tbody>\n",
       "</table>\n",
       "</div>"
      ],
      "text/plain": [
       "   store_id        store_name           phone               email  \\\n",
       "0         1  Santa Cruz Bikes  (831) 476-4321             unknown   \n",
       "1         2     Baldwin Bikes  (516) 379-8888  baldwin@bikes.shop   \n",
       "2         3     Rowlett Bikes  (972) 530-5555  rowlett@bikes.shop   \n",
       "\n",
       "                street        city state zip_code                Extract_time  \\\n",
       "0   3700 Portola Drive  Santa Cruz    CA  00000.0  2024-05-02 11:57:33.237966   \n",
       "1   4200 Chestnut Lane     Baldwin    NY  11432.0  2024-05-02 11:57:33.237966   \n",
       "2  8000 Fairway Avenue     Rowlett    TX  75088.0  2024-05-02 11:57:33.237966   \n",
       "\n",
       "     Source  \n",
       "0  Datalake  \n",
       "1  Datalake  \n",
       "2  Datalake  "
      ]
     },
     "execution_count": 20,
     "metadata": {},
     "output_type": "execute_result"
    }
   ],
   "source": [
    "df_stores_final"
   ]
  },
  {
   "cell_type": "code",
   "execution_count": 21,
   "id": "42b97068",
   "metadata": {},
   "outputs": [],
   "source": [
    "import os\n",
    "\n",
    "csv_path = \"/home/radwa/Radwa.Usecase/staging_1/Stores/stores.csv\" \n",
    "\n",
    "directory = os.path.dirname(csv_path)\n",
    "if not os.path.exists(directory):\n",
    "    os.makedirs(directory)\n",
    "    \n",
    "df_stores_final.to_csv(csv_path, index=False)"
   ]
  },
  {
   "cell_type": "code",
   "execution_count": null,
   "id": "9b33432e",
   "metadata": {},
   "outputs": [],
   "source": []
  },
  {
   "cell_type": "code",
   "execution_count": null,
   "id": "ac0b0db9",
   "metadata": {},
   "outputs": [],
   "source": []
  }
 ],
 "metadata": {
  "kernelspec": {
   "display_name": "Python 3 (ipykernel)",
   "language": "python",
   "name": "python3"
  },
  "language_info": {
   "codemirror_mode": {
    "name": "ipython",
    "version": 3
   },
   "file_extension": ".py",
   "mimetype": "text/x-python",
   "name": "python",
   "nbconvert_exporter": "python",
   "pygments_lexer": "ipython3",
   "version": "3.9.12"
  }
 },
 "nbformat": 4,
 "nbformat_minor": 5
}
