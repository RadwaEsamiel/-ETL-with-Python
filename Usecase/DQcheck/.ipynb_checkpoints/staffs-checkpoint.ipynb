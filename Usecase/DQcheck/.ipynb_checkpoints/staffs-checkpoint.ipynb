{
 "cells": [
  {
   "cell_type": "code",
   "execution_count": 23,
   "id": "e8274e9c",
   "metadata": {},
   "outputs": [],
   "source": [
    "import sqlalchemy as db\n",
    "import pandas as pd\n",
    "import numpy as np\n",
    "\n",
    "\n",
    "path = \"/home/radwa/Radwa.Usecase/Landing/Staffs/staffs.csv\"\n",
    "\n",
    "df_staffs = pd.read_csv(path)"
   ]
  },
  {
   "cell_type": "code",
   "execution_count": 24,
   "id": "6ac913f9",
   "metadata": {},
   "outputs": [
    {
     "data": {
      "text/plain": [
       "staff_id        0\n",
       "first_name      0\n",
       "last_name       1\n",
       "email           1\n",
       "phone           2\n",
       "active          0\n",
       "store_id        1\n",
       "manager_id      1\n",
       "Extract_time    0\n",
       "Source          0\n",
       "dtype: int64"
      ]
     },
     "execution_count": 24,
     "metadata": {},
     "output_type": "execute_result"
    }
   ],
   "source": [
    "df_staffs.isnull().sum()"
   ]
  },
  {
   "cell_type": "code",
   "execution_count": 25,
   "id": "274a1d87",
   "metadata": {},
   "outputs": [
    {
     "name": "stdout",
     "output_type": "stream",
     "text": [
      "<class 'pandas.core.frame.DataFrame'>\n",
      "RangeIndex: 10 entries, 0 to 9\n",
      "Data columns (total 10 columns):\n",
      " #   Column        Non-Null Count  Dtype  \n",
      "---  ------        --------------  -----  \n",
      " 0   staff_id      10 non-null     int64  \n",
      " 1   first_name    10 non-null     object \n",
      " 2   last_name     9 non-null      object \n",
      " 3   email         9 non-null      object \n",
      " 4   phone         8 non-null      object \n",
      " 5   active        10 non-null     int64  \n",
      " 6   store_id      9 non-null      float64\n",
      " 7   manager_id    9 non-null      float64\n",
      " 8   Extract_time  10 non-null     object \n",
      " 9   Source        10 non-null     object \n",
      "dtypes: float64(2), int64(2), object(6)\n",
      "memory usage: 928.0+ bytes\n"
     ]
    }
   ],
   "source": [
    "df_staffs.info()"
   ]
  },
  {
   "cell_type": "code",
   "execution_count": 26,
   "id": "492e8292",
   "metadata": {},
   "outputs": [],
   "source": [
    "\n",
    "df_staffs_phones = \"unknown\"\n",
    "\n",
    "df_staffs['phone'].fillna(df_staffs_phones, inplace=True)"
   ]
  },
  {
   "cell_type": "code",
   "execution_count": 27,
   "id": "a91e012f",
   "metadata": {},
   "outputs": [],
   "source": [
    "\n",
    "df_staffs_name = \"unknown\"\n",
    "\n",
    "df_staffs['last_name'].fillna(df_staffs_name, inplace=True)"
   ]
  },
  {
   "cell_type": "code",
   "execution_count": 28,
   "id": "2c4c7bde",
   "metadata": {},
   "outputs": [],
   "source": [
    "\n",
    "df_staffs_email = \"unknown\"\n",
    "\n",
    "df_staffs['email'].fillna(df_staffs_email, inplace=True)"
   ]
  },
  {
   "cell_type": "code",
   "execution_count": 29,
   "id": "9115ed9c",
   "metadata": {},
   "outputs": [],
   "source": [
    "df_staffs.dropna(axis = 0 , inplace=True ) "
   ]
  },
  {
   "cell_type": "code",
   "execution_count": 30,
   "id": "5fb4a4c5",
   "metadata": {},
   "outputs": [
    {
     "data": {
      "text/plain": [
       "(9, 10)"
      ]
     },
     "execution_count": 30,
     "metadata": {},
     "output_type": "execute_result"
    }
   ],
   "source": [
    "df_staffs.shape"
   ]
  },
  {
   "cell_type": "code",
   "execution_count": 31,
   "id": "23e32a23",
   "metadata": {},
   "outputs": [],
   "source": [
    "df_staffs_final = df_staffs.drop_duplicates()"
   ]
  },
  {
   "cell_type": "code",
   "execution_count": 32,
   "id": "7cc83a9c",
   "metadata": {},
   "outputs": [
    {
     "data": {
      "text/html": [
       "<div>\n",
       "<style scoped>\n",
       "    .dataframe tbody tr th:only-of-type {\n",
       "        vertical-align: middle;\n",
       "    }\n",
       "\n",
       "    .dataframe tbody tr th {\n",
       "        vertical-align: top;\n",
       "    }\n",
       "\n",
       "    .dataframe thead th {\n",
       "        text-align: right;\n",
       "    }\n",
       "</style>\n",
       "<table border=\"1\" class=\"dataframe\">\n",
       "  <thead>\n",
       "    <tr style=\"text-align: right;\">\n",
       "      <th></th>\n",
       "      <th>staff_id</th>\n",
       "      <th>first_name</th>\n",
       "      <th>last_name</th>\n",
       "      <th>email</th>\n",
       "      <th>phone</th>\n",
       "      <th>active</th>\n",
       "      <th>store_id</th>\n",
       "      <th>manager_id</th>\n",
       "      <th>Extract_time</th>\n",
       "      <th>Source</th>\n",
       "    </tr>\n",
       "  </thead>\n",
       "  <tbody>\n",
       "    <tr>\n",
       "      <th>1</th>\n",
       "      <td>2</td>\n",
       "      <td>Mireya</td>\n",
       "      <td>unknown</td>\n",
       "      <td>mireya.copeland@bikes.shop</td>\n",
       "      <td>(831) 555-5555</td>\n",
       "      <td>1</td>\n",
       "      <td>1.0</td>\n",
       "      <td>1.0</td>\n",
       "      <td>2024-05-02 11:57:32.391751</td>\n",
       "      <td>Datalake</td>\n",
       "    </tr>\n",
       "    <tr>\n",
       "      <th>2</th>\n",
       "      <td>3</td>\n",
       "      <td>Genna</td>\n",
       "      <td>Serrano</td>\n",
       "      <td>genna.serrano@bikes.shop</td>\n",
       "      <td>(831) 555-5556</td>\n",
       "      <td>1</td>\n",
       "      <td>1.0</td>\n",
       "      <td>2.0</td>\n",
       "      <td>2024-05-02 11:57:32.391751</td>\n",
       "      <td>Datalake</td>\n",
       "    </tr>\n",
       "    <tr>\n",
       "      <th>3</th>\n",
       "      <td>4</td>\n",
       "      <td>Virgie</td>\n",
       "      <td>Wiggins</td>\n",
       "      <td>virgie.wiggins@bikes.shop</td>\n",
       "      <td>(831) 555-5557</td>\n",
       "      <td>1</td>\n",
       "      <td>1.0</td>\n",
       "      <td>2.0</td>\n",
       "      <td>2024-05-02 11:57:32.391751</td>\n",
       "      <td>Datalake</td>\n",
       "    </tr>\n",
       "    <tr>\n",
       "      <th>4</th>\n",
       "      <td>5</td>\n",
       "      <td>Jannette</td>\n",
       "      <td>David</td>\n",
       "      <td>jannette.david@bikes.shop</td>\n",
       "      <td>(516) 379-4444</td>\n",
       "      <td>1</td>\n",
       "      <td>2.0</td>\n",
       "      <td>1.0</td>\n",
       "      <td>2024-05-02 11:57:32.391751</td>\n",
       "      <td>Datalake</td>\n",
       "    </tr>\n",
       "    <tr>\n",
       "      <th>5</th>\n",
       "      <td>6</td>\n",
       "      <td>Marcelene</td>\n",
       "      <td>Boyer</td>\n",
       "      <td>unknown</td>\n",
       "      <td>(516) 379-4445</td>\n",
       "      <td>1</td>\n",
       "      <td>2.0</td>\n",
       "      <td>5.0</td>\n",
       "      <td>2024-05-02 11:57:32.391751</td>\n",
       "      <td>Datalake</td>\n",
       "    </tr>\n",
       "    <tr>\n",
       "      <th>6</th>\n",
       "      <td>7</td>\n",
       "      <td>Venita</td>\n",
       "      <td>Daniel</td>\n",
       "      <td>venita.daniel@bikes.shop</td>\n",
       "      <td>unknown</td>\n",
       "      <td>1</td>\n",
       "      <td>2.0</td>\n",
       "      <td>5.0</td>\n",
       "      <td>2024-05-02 11:57:32.391751</td>\n",
       "      <td>Datalake</td>\n",
       "    </tr>\n",
       "    <tr>\n",
       "      <th>7</th>\n",
       "      <td>8</td>\n",
       "      <td>Kali</td>\n",
       "      <td>Vargas</td>\n",
       "      <td>kali.vargas@bikes.shop</td>\n",
       "      <td>(972) 530-5555</td>\n",
       "      <td>1</td>\n",
       "      <td>3.0</td>\n",
       "      <td>1.0</td>\n",
       "      <td>2024-05-02 11:57:32.391751</td>\n",
       "      <td>Datalake</td>\n",
       "    </tr>\n",
       "    <tr>\n",
       "      <th>8</th>\n",
       "      <td>9</td>\n",
       "      <td>Layla</td>\n",
       "      <td>Terrell</td>\n",
       "      <td>layla.terrell@bikes.shop</td>\n",
       "      <td>(972) 530-5556</td>\n",
       "      <td>1</td>\n",
       "      <td>3.0</td>\n",
       "      <td>7.0</td>\n",
       "      <td>2024-05-02 11:57:32.391751</td>\n",
       "      <td>Datalake</td>\n",
       "    </tr>\n",
       "    <tr>\n",
       "      <th>9</th>\n",
       "      <td>10</td>\n",
       "      <td>Bernardine</td>\n",
       "      <td>Houston</td>\n",
       "      <td>bernardine.houston@bikes.shop</td>\n",
       "      <td>(972) 530-5557</td>\n",
       "      <td>1</td>\n",
       "      <td>3.0</td>\n",
       "      <td>7.0</td>\n",
       "      <td>2024-05-02 11:57:32.391751</td>\n",
       "      <td>Datalake</td>\n",
       "    </tr>\n",
       "  </tbody>\n",
       "</table>\n",
       "</div>"
      ],
      "text/plain": [
       "   staff_id  first_name last_name                          email  \\\n",
       "1         2      Mireya   unknown     mireya.copeland@bikes.shop   \n",
       "2         3       Genna   Serrano       genna.serrano@bikes.shop   \n",
       "3         4      Virgie   Wiggins      virgie.wiggins@bikes.shop   \n",
       "4         5    Jannette     David      jannette.david@bikes.shop   \n",
       "5         6   Marcelene     Boyer                        unknown   \n",
       "6         7      Venita    Daniel       venita.daniel@bikes.shop   \n",
       "7         8        Kali    Vargas         kali.vargas@bikes.shop   \n",
       "8         9       Layla   Terrell       layla.terrell@bikes.shop   \n",
       "9        10  Bernardine   Houston  bernardine.houston@bikes.shop   \n",
       "\n",
       "            phone  active  store_id  manager_id                Extract_time  \\\n",
       "1  (831) 555-5555       1       1.0         1.0  2024-05-02 11:57:32.391751   \n",
       "2  (831) 555-5556       1       1.0         2.0  2024-05-02 11:57:32.391751   \n",
       "3  (831) 555-5557       1       1.0         2.0  2024-05-02 11:57:32.391751   \n",
       "4  (516) 379-4444       1       2.0         1.0  2024-05-02 11:57:32.391751   \n",
       "5  (516) 379-4445       1       2.0         5.0  2024-05-02 11:57:32.391751   \n",
       "6         unknown       1       2.0         5.0  2024-05-02 11:57:32.391751   \n",
       "7  (972) 530-5555       1       3.0         1.0  2024-05-02 11:57:32.391751   \n",
       "8  (972) 530-5556       1       3.0         7.0  2024-05-02 11:57:32.391751   \n",
       "9  (972) 530-5557       1       3.0         7.0  2024-05-02 11:57:32.391751   \n",
       "\n",
       "     Source  \n",
       "1  Datalake  \n",
       "2  Datalake  \n",
       "3  Datalake  \n",
       "4  Datalake  \n",
       "5  Datalake  \n",
       "6  Datalake  \n",
       "7  Datalake  \n",
       "8  Datalake  \n",
       "9  Datalake  "
      ]
     },
     "execution_count": 32,
     "metadata": {},
     "output_type": "execute_result"
    }
   ],
   "source": [
    "df_staffs_final"
   ]
  },
  {
   "cell_type": "code",
   "execution_count": 33,
   "id": "42b97068",
   "metadata": {},
   "outputs": [],
   "source": [
    "import os\n",
    "\n",
    "csv_path = \"/home/radwa/Radwa.Usecase/staging_1/Staffs/staffs.csv\" \n",
    "\n",
    "directory = os.path.dirname(csv_path)\n",
    "if not os.path.exists(directory):\n",
    "    os.makedirs(directory)\n",
    "    \n",
    "df_staffs_final.to_csv(csv_path, index=False)"
   ]
  },
  {
   "cell_type": "code",
   "execution_count": null,
   "id": "9b33432e",
   "metadata": {},
   "outputs": [],
   "source": []
  }
 ],
 "metadata": {
  "kernelspec": {
   "display_name": "Python 3 (ipykernel)",
   "language": "python",
   "name": "python3"
  },
  "language_info": {
   "codemirror_mode": {
    "name": "ipython",
    "version": 3
   },
   "file_extension": ".py",
   "mimetype": "text/x-python",
   "name": "python",
   "nbconvert_exporter": "python",
   "pygments_lexer": "ipython3",
   "version": "3.9.12"
  }
 },
 "nbformat": 4,
 "nbformat_minor": 5
}
