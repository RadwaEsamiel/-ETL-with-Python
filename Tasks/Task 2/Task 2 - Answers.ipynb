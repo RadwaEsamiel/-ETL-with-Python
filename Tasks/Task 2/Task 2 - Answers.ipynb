{
 "cells": [
  {
   "cell_type": "code",
   "execution_count": 42,
   "id": "81f0f3a8",
   "metadata": {},
   "outputs": [],
   "source": [
    "import os\n",
    "import json\n",
    "import pandas as pd\n",
    "from datetime import datetime\n",
    "from time import time\n",
    "from hashlib import md5\n",
    "from urllib.parse import urlparse"
   ]
  },
  {
   "cell_type": "code",
   "execution_count": 43,
   "id": "5637eec9",
   "metadata": {},
   "outputs": [],
   "source": [
    "def load_json_file(file_path):\n",
    "    with open(file_path) as f:\n",
    "        records = [json.loads(line) for line in f]\n",
    "    return records"
   ]
  },
  {
   "cell_type": "code",
   "execution_count": 44,
   "id": "9fec8e62",
   "metadata": {},
   "outputs": [],
   "source": [
    "def converted_timestamp(timestamp, unix=True):\n",
    "    if pd.isna(timestamp):  \n",
    "        return timestamp  \n",
    "    if unix_formated:\n",
    "        return timestamp\n",
    "    else:\n",
    "        return datetime.utcfromtimestamp(timestamp).strftime('%Y-%m-%d %H:%M:%S')"
   ]
  },
  {
   "cell_type": "code",
   "execution_count": 45,
   "id": "3a2ca0cb",
   "metadata": {},
   "outputs": [],
   "source": [
    "def AS_dataframe(records, unix_formated):\n",
    "    if not records:\n",
    "        print(\"No records to transform.\")\n",
    "        return None\n",
    "    \n",
    "    df = pd.DataFrame(records)\n",
    "    \n",
    "    df_Out = pd.DataFrame({\n",
    "        'web_browser': df['a'].astype(str).str.split('(', 1).str[0],\n",
    "        'operating_sys': df['a'].astype(str).str.split('(', 1).str[1].str.split(';', 1).str[0], \n",
    "        \n",
    "        \n",
    "        'from_url': df['r'].str.split('/').str[2].str.replace('www.', ''),\n",
    "        'to_url': df['u'].str.split('/').str[2].str.replace('www.', ''),\n",
    "        \n",
    "        \n",
    "        \n",
    "        'city': df['cy'],\n",
    "        \n",
    "        \n",
    "        'latitude': df['ll'].apply(lambda x: x[0] if isinstance(x, list) and len(x) > 0 else 0),\n",
    "        'longitude': df['ll'].apply(lambda x: x[1] if isinstance(x, list) and len(x) > 1 else 0),\n",
    "        \n",
    "        \n",
    "        \n",
    "        'time_zone': df['tz'],\n",
    "        'time_in': df['t'].apply(lambda x: converted_timestamp(x, unix_formated)), \n",
    "        'time_out': df['hc'].apply(lambda x: converted_timestamp(x, unix_formated)),  \n",
    "    })\n",
    "    \n",
    "    df_Out.dropna(inplace=True)\n",
    "\n",
    "    return df_Out"
   ]
  },
  {
   "cell_type": "code",
   "execution_count": 46,
   "id": "9ac8d9cf",
   "metadata": {},
   "outputs": [],
   "source": [
    "def save_to_csv(df, output_directory, file_name):\n",
    "    \n",
    "        os.makedirs(output_directory, exist_ok=True)\n",
    "        file_path = os.path.join(output_directory, file_name)\n",
    "        df.to_csv(file_path, index=False)"
   ]
  },
  {
   "cell_type": "code",
   "execution_count": 47,
   "id": "b70fc718",
   "metadata": {},
   "outputs": [],
   "source": [
    "def check_duplicates(df):\n",
    "    if df is not None and df.duplicated().any():\n",
    "        print(\"Warning: Duplicates found in the DataFrame!\")\n",
    "        return True\n",
    "    return False"
   ]
  },
  {
   "cell_type": "code",
   "execution_count": 48,
   "id": "aed00d8e",
   "metadata": {},
   "outputs": [
    {
     "name": "stderr",
     "output_type": "stream",
     "text": [
      "/tmp/ipykernel_8319/2211358669.py:13: FutureWarning: The default value of regex will change from True to False in a future version.\n",
      "  'from_url': df['r'].str.split('/').str[2].str.replace('www.', ''),\n",
      "/tmp/ipykernel_8319/2211358669.py:14: FutureWarning: The default value of regex will change from True to False in a future version.\n",
      "  'to_url': df['u'].str.split('/').str[2].str.replace('www.', ''),\n",
      "/tmp/ipykernel_8319/2211358669.py:13: FutureWarning: The default value of regex will change from True to False in a future version.\n",
      "  'from_url': df['r'].str.split('/').str[2].str.replace('www.', ''),\n"
     ]
    },
    {
     "name": "stdout",
     "output_type": "stream",
     "text": [
      "Warning: Duplicates found in the DataFrame!\n",
      "Warning: Duplicates found in the DataFrame!\n",
      "Total execution time: 0.37 seconds.\n"
     ]
    },
    {
     "name": "stderr",
     "output_type": "stream",
     "text": [
      "/tmp/ipykernel_8319/2211358669.py:14: FutureWarning: The default value of regex will change from True to False in a future version.\n",
      "  'to_url': df['u'].str.split('/').str[2].str.replace('www.', ''),\n",
      "/tmp/ipykernel_8319/2211358669.py:13: FutureWarning: The default value of regex will change from True to False in a future version.\n",
      "  'from_url': df['r'].str.split('/').str[2].str.replace('www.', ''),\n",
      "/tmp/ipykernel_8319/2211358669.py:14: FutureWarning: The default value of regex will change from True to False in a future version.\n",
      "  'to_url': df['u'].str.split('/').str[2].str.replace('www.', ''),\n"
     ]
    }
   ],
   "source": [
    "def main(directory_path, unix_formated):\n",
    "    if not os.path.isdir(directory_path):\n",
    "        print(f\"Error: Directory '{directory_path}' does not exist.\")\n",
    "        return\n",
    "    \n",
    "    json_files = [f for f in os.listdir(directory_path) if f.endswith('.json')]\n",
    "    if not json_files:\n",
    "        print(\"No JSON files found in the specified directory.\")\n",
    "        return\n",
    "    \n",
    "    start_time = time()  \n",
    "    \n",
    "    output_directory = os.path.join(directory_path, 'target')\n",
    "    \n",
    "    for json_file in json_files:\n",
    "        file_path = os.path.join(directory_path, json_file)\n",
    "        \n",
    "        records = load_json_file(file_path)\n",
    "        if records is None:\n",
    "            continue \n",
    "        \n",
    "        df_Out = AS_dataframe(records, unix_formated)\n",
    "        \n",
    "        if df_Out is not None:\n",
    "            if check_duplicates(df_Out):\n",
    "                df_Out.drop_duplicates(inplace=True)\n",
    "            \n",
    "            csv_name = os.path.splitext(json_file)[0] + '.csv'\n",
    "            save_to_csv(df_Out, output_directory, csv_name)\n",
    "    \n",
    "    execution_time = time() - start_time\n",
    "    print(f\"Total execution time: {execution_time:.2f} seconds.\")\n",
    "\n",
    "directory_path = os.getcwd()  \n",
    "unix_formated = False  \n",
    "main(directory_path, unix_formated)"
   ]
  },
  {
   "cell_type": "code",
   "execution_count": null,
   "id": "808c0051",
   "metadata": {},
   "outputs": [],
   "source": []
  },
  {
   "cell_type": "code",
   "execution_count": null,
   "id": "49b71413",
   "metadata": {},
   "outputs": [],
   "source": []
  }
 ],
 "metadata": {
  "kernelspec": {
   "display_name": "Python 3 (ipykernel)",
   "language": "python",
   "name": "python3"
  },
  "language_info": {
   "codemirror_mode": {
    "name": "ipython",
    "version": 3
   },
   "file_extension": ".py",
   "mimetype": "text/x-python",
   "name": "python",
   "nbconvert_exporter": "python",
   "pygments_lexer": "ipython3",
   "version": "3.9.12"
  }
 },
 "nbformat": 4,
 "nbformat_minor": 5
}
